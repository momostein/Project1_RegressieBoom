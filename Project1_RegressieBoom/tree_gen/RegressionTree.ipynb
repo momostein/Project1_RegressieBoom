{
 "cells": [
  {
   "cell_type": "code",
   "execution_count": 1,
   "metadata": {},
   "outputs": [],
   "source": [
    "# import numpy package for arrays and stuff \n",
    "import numpy as np  \n",
    "  \n",
    "# import matplotlib.pyplot for plotting our result \n",
    "import matplotlib.pyplot as plt \n",
    "  \n",
    "# import pandas for importing csv files  \n",
    "import pandas as pd  "
   ]
  },
  {
   "cell_type": "code",
   "execution_count": 2,
   "metadata": {},
   "outputs": [],
   "source": [
    "# Create artificial data set\n",
    "dataset = np.array(\n",
    "[[0, 'Model', 'Condition', 'Leslie', 'Price'], \n",
    "[1, 'B3', 'excellent', 'yes', 4513], \n",
    "[2, 'T202', 'fair', 'yes', 625], \n",
    "[3, 'A100', 'good', 'yes', 1051], \n",
    "[4, 'T202', 'good', 'no', 270], \n",
    "[5, 'M102', 'good', 'yes', 870], \n",
    "[6, 'A100', 'excellent', 'no', 1770], \n",
    "[7, 'T202', 'fair', 'no', 99],\n",
    "[8, 'A100', 'good', 'yes', 1900],\n",
    "[9, 'E112', 'fair', 'no', 77]\n",
    "]) "
   ]
  },
  {
   "cell_type": "code",
   "execution_count": 3,
   "metadata": {},
   "outputs": [],
   "source": [
    "df = pd.DataFrame(data=dataset[1:,1:],    # values\n",
    "index=dataset[1:,0],    # 1st column as index\n",
    "columns=dataset[0,1:])  # 1st row as the column names\n",
    "df = df.astype(dtype={\"Model\":\"category\", \"Condition\":\"category\",\"Leslie\":\"category\", \"Price\":np.int})"
   ]
  },
  {
   "cell_type": "code",
   "execution_count": 4,
   "metadata": {},
   "outputs": [
    {
     "data": {
      "text/html": [
       "<div>\n",
       "<style scoped>\n",
       "    .dataframe tbody tr th:only-of-type {\n",
       "        vertical-align: middle;\n",
       "    }\n",
       "\n",
       "    .dataframe tbody tr th {\n",
       "        vertical-align: top;\n",
       "    }\n",
       "\n",
       "    .dataframe thead th {\n",
       "        text-align: right;\n",
       "    }\n",
       "</style>\n",
       "<table border=\"1\" class=\"dataframe\">\n",
       "  <thead>\n",
       "    <tr style=\"text-align: right;\">\n",
       "      <th></th>\n",
       "      <th>Model</th>\n",
       "      <th>Condition</th>\n",
       "      <th>Leslie</th>\n",
       "      <th>Price</th>\n",
       "    </tr>\n",
       "  </thead>\n",
       "  <tbody>\n",
       "    <tr>\n",
       "      <th>1</th>\n",
       "      <td>B3</td>\n",
       "      <td>excellent</td>\n",
       "      <td>yes</td>\n",
       "      <td>4513</td>\n",
       "    </tr>\n",
       "    <tr>\n",
       "      <th>2</th>\n",
       "      <td>T202</td>\n",
       "      <td>fair</td>\n",
       "      <td>yes</td>\n",
       "      <td>625</td>\n",
       "    </tr>\n",
       "    <tr>\n",
       "      <th>3</th>\n",
       "      <td>A100</td>\n",
       "      <td>good</td>\n",
       "      <td>yes</td>\n",
       "      <td>1051</td>\n",
       "    </tr>\n",
       "    <tr>\n",
       "      <th>4</th>\n",
       "      <td>T202</td>\n",
       "      <td>good</td>\n",
       "      <td>no</td>\n",
       "      <td>270</td>\n",
       "    </tr>\n",
       "    <tr>\n",
       "      <th>5</th>\n",
       "      <td>M102</td>\n",
       "      <td>good</td>\n",
       "      <td>yes</td>\n",
       "      <td>870</td>\n",
       "    </tr>\n",
       "    <tr>\n",
       "      <th>6</th>\n",
       "      <td>A100</td>\n",
       "      <td>excellent</td>\n",
       "      <td>no</td>\n",
       "      <td>1770</td>\n",
       "    </tr>\n",
       "    <tr>\n",
       "      <th>7</th>\n",
       "      <td>T202</td>\n",
       "      <td>fair</td>\n",
       "      <td>no</td>\n",
       "      <td>99</td>\n",
       "    </tr>\n",
       "    <tr>\n",
       "      <th>8</th>\n",
       "      <td>A100</td>\n",
       "      <td>good</td>\n",
       "      <td>yes</td>\n",
       "      <td>1900</td>\n",
       "    </tr>\n",
       "    <tr>\n",
       "      <th>9</th>\n",
       "      <td>E112</td>\n",
       "      <td>fair</td>\n",
       "      <td>no</td>\n",
       "      <td>77</td>\n",
       "    </tr>\n",
       "  </tbody>\n",
       "</table>\n",
       "</div>"
      ],
      "text/plain": [
       "  Model  Condition Leslie  Price\n",
       "1    B3  excellent    yes   4513\n",
       "2  T202       fair    yes    625\n",
       "3  A100       good    yes   1051\n",
       "4  T202       good     no    270\n",
       "5  M102       good    yes    870\n",
       "6  A100  excellent     no   1770\n",
       "7  T202       fair     no     99\n",
       "8  A100       good    yes   1900\n",
       "9  E112       fair     no     77"
      ]
     },
     "execution_count": 4,
     "metadata": {},
     "output_type": "execute_result"
    }
   ],
   "source": [
    "df"
   ]
  },
  {
   "cell_type": "code",
   "execution_count": 5,
   "metadata": {},
   "outputs": [],
   "source": [
    "# One hot encoding\n",
    "X = pd.get_dummies(df[[\"Model\",\"Condition\",\"Leslie\"]],drop_first=True)\n",
    "y = df['Price']\n",
    "\n",
    "#print(X) "
   ]
  },
  {
   "cell_type": "code",
   "execution_count": 6,
   "metadata": {},
   "outputs": [
    {
     "data": {
      "text/plain": [
       "DecisionTreeRegressor(criterion='mse', max_depth=2, max_features=None,\n",
       "           max_leaf_nodes=None, min_impurity_decrease=0.0,\n",
       "           min_impurity_split=None, min_samples_leaf=1,\n",
       "           min_samples_split=2, min_weight_fraction_leaf=0.0,\n",
       "           presort=False, random_state=0, splitter='best')"
      ]
     },
     "execution_count": 6,
     "metadata": {},
     "output_type": "execute_result"
    }
   ],
   "source": [
    "# import the regressor \n",
    "from sklearn.tree import DecisionTreeRegressor  \n",
    "  \n",
    "# create a regressor object \n",
    "regressor = DecisionTreeRegressor(random_state = 0, max_depth = 2)  \n",
    "  \n",
    "# fit the regressor with X and Y data \n",
    "regressor.fit(X, y) "
   ]
  },
  {
   "cell_type": "code",
   "execution_count": 7,
   "metadata": {},
   "outputs": [],
   "source": [
    "from auxiliaryFunctions import rules"
   ]
  },
  {
   "cell_type": "code",
   "execution_count": 8,
   "metadata": {},
   "outputs": [
    {
     "data": {
      "text/plain": [
       "{'name': 'Model_B3 > 0.5',\n",
       " 'children': [{'name': '4513 of Price', 'children': None},\n",
       "  {'name': 'Condition_fair > 0.5',\n",
       "   'children': [{'name': '267 of Price', 'children': None},\n",
       "    {'name': '1172 of Price', 'children': None}]}]}"
      ]
     },
     "execution_count": 8,
     "metadata": {},
     "output_type": "execute_result"
    }
   ],
   "source": [
    "#generate JSON file\n",
    "rule_dict = rules(regressor, X.columns.values, [y.name])\n",
    "rule_dict"
   ]
  },
  {
   "cell_type": "code",
   "execution_count": 9,
   "metadata": {},
   "outputs": [
    {
     "name": "stdout",
     "output_type": "stream",
     "text": [
      "{\n",
      "  \"name\": \"Model_B3 > 0.5\",\n",
      "  \"children\": [\n",
      "    {\n",
      "      \"name\": \"4513 of Price\",\n",
      "      \"children\": null\n",
      "    },\n",
      "    {\n",
      "      \"name\": \"Condition_fair > 0.5\",\n",
      "      \"children\": [\n",
      "        {\n",
      "          \"name\": \"267 of Price\",\n",
      "          \"children\": null\n",
      "        },\n",
      "        {\n",
      "          \"name\": \"1172 of Price\",\n",
      "          \"children\": null\n",
      "        }\n",
      "      ]\n",
      "    }\n",
      "  ]\n",
      "}\n"
     ]
    }
   ],
   "source": [
    "import json\n",
    "\n",
    "print(json.dumps(rule_dict, indent=2))"
   ]
  },
  {
   "cell_type": "code",
   "execution_count": 10,
   "metadata": {},
   "outputs": [],
   "source": [
    "with open('rules.json', 'w') as f:\n",
    "    json.dump(rule_dict, f, indent=4)"
   ]
  },
  {
   "cell_type": "code",
   "execution_count": 11,
   "metadata": {},
   "outputs": [
    {
     "data": {
      "image/png": "[encoded data removed]",
      "text/plain": [
       "<IPython.core.display.Image object>"
      ]
     },
     "metadata": {},
     "output_type": "display_data"
    }
   ],
   "source": [
    "import pydotplus\n",
    "from sklearn.tree import export_graphviz\n",
    "from IPython.display import Image\n",
    "from IPython.display import display\n",
    "\n",
    "dot_data = export_graphviz(\n",
    "regressor, \n",
    "out_file=None,\n",
    "feature_names=X.columns.values,  \n",
    "filled=True,\n",
    "rounded=True)\n",
    "\n",
    "graph = pydotplus.graph_from_dot_data(dot_data)  \n",
    "display(Image(graph.create_png()))"
   ]
  },
  {
   "cell_type": "code",
   "execution_count": null,
   "metadata": {},
   "outputs": [],
   "source": []
  }
 ],
 "metadata": {
  "kernelspec": {
   "display_name": "Python 3",
   "language": "python",
   "name": "python3"
  },
  "language_info": {
   "codemirror_mode": {
    "name": "ipython",
    "version": 3
   },
   "file_extension": ".py",
   "mimetype": "text/x-python",
   "name": "python",
   "nbconvert_exporter": "python",
   "pygments_lexer": "ipython3",
   "version": "3.7.1"
  }
 },
 "nbformat": 4,
 "nbformat_minor": 2
}
